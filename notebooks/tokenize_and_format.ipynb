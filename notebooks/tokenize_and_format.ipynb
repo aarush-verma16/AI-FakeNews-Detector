{
 "cells": [
  {
   "cell_type": "markdown",
   "id": "ca125b79",
   "metadata": {},
   "source": [
    "## Tokenization & Dataset Formatting\n",
    "\n",
    "In this step, we:\n",
    "- Load our cleaned `train/val/test.csv` files\n",
    "- Use the HuggingFace `roberta-base` tokenizer\n",
    "- Convert each article (`full_text`) into numerical tokens (input IDs)\n",
    "- Add attention masks so the model ignores padding"
   ]
  },
  {
   "cell_type": "code",
   "execution_count": null,
   "id": "33a7db36",
   "metadata": {},
   "outputs": [],
   "source": [
    "import pandas as pd\n",
    "import torch # For working with tensors (required for model training)\n",
    "from transformers import RobertaTokenizer # Loads the RoBERTa tokenizer for text → tokens\n",
    "import pickle\n",
    "import os"
   ]
  },
  {
   "cell_type": "code",
   "execution_count": null,
   "id": "af01f8ae",
   "metadata": {},
   "outputs": [],
   "source": [
    "train_df = pd.read_csv('../data/train.csv') # Load Training Data\n",
    "val_df = pd.read_csv('../data/val.csv')     # Load Validation Data\n",
    "test_df = pd.read_csv('../data/test.csv')   # Load Test Data"
   ]
  },
  {
   "cell_type": "code",
   "execution_count": null,
   "id": "8932fc7a",
   "metadata": {},
   "outputs": [],
   "source": [
    "tokenizer = RobertaTokenizer.from_pretrained('roberta-base')"
   ]
  },
  {
   "cell_type": "markdown",
   "id": "48453579",
   "metadata": {},
   "source": [
    "### Tokenize the Full Text in Each Dataset\n",
    "\n",
    "We will tokenize the `full_text` column of each dataset:\n",
    "- Apply truncation so text longer than 512 tokens is cut off\n",
    "- Apply padding to shorter texts to match the max length\n",
    "- Return PyTorch tensors directly (`return_tensors='pt'`)"
   ]
  },
  {
   "cell_type": "code",
   "execution_count": null,
   "id": "2e13b9ad",
   "metadata": {},
   "outputs": [],
   "source": [
    "train_encodings = tokenizer(\n",
    "\n",
    "    train_df['full_text'].to_list(),    # List of strings (news articles)\n",
    "    truncation = True,                  # Cuts off articles >512 Tokens\n",
    "    padding = True,                     # Pad shorter ones to 512 tokens\n",
    "    max_length = 512,                   # Max tokens RoBERTa supports\n",
    "    return_tensors = 'pt'               # Return PyTorch-style tensors\n",
    "\n",
    ")\n",
    "\n",
    "val_encodings = tokenizer(\n",
    "\n",
    "    val_df['full_text'].to_list(),\n",
    "    truncation = True,\n",
    "    padding = True,\n",
    "    max_length = 512,\n",
    "    return_tensors = 'pt'\n",
    ")\n",
    "\n",
    "test_encodings = tokenizer(\n",
    "\n",
    "    val_df['full_text'].to_list(),\n",
    "    truncation = True,\n",
    "    padding = True,\n",
    "    max_length = True,\n",
    "    return_tensors = 'pt'\n",
    ")\n"
   ]
  },
  {
   "cell_type": "code",
   "execution_count": null,
   "id": "df053823",
   "metadata": {},
   "outputs": [],
   "source": [
    "train_labels = torch.tensor(train_df['label'].values) # Converts labels into tensors\n",
    "val_labels = torch.tensor(val_df['label'].values)\n",
    "test_labels = torch.tensor(test_df['label'].values)"
   ]
  },
  {
   "cell_type": "code",
   "execution_count": null,
   "id": "78ace58e",
   "metadata": {},
   "outputs": [],
   "source": [
    "print(tokenizer.decode(train_encodings['input_ids'][0])) # Decode tokenized article 0\n",
    "print(\"Label: \", train_labels[0].item()) # Print its label (0 or 1)"
   ]
  },
  {
   "cell_type": "code",
   "execution_count": null,
   "id": "4d5c8779",
   "metadata": {},
   "outputs": [],
   "source": [
    "os.makedirs(\"artifacts\", exist_ok=True)\n",
    "# Save tokenized inputs and labels\n",
    "with open(\"artifacts/train_encodings.pkl\", \"wb\") as f:\n",
    "    pickle.dump(train_encodings, f)\n",
    "with open(\"artifacts/train_labels.pkl\", \"wb\") as f:\n",
    "    pickle.dump(train_labels, f)\n",
    "with open(\"artifacts/val_encodings.pkl\", \"wb\") as f:\n",
    "    pickle.dump(val_encodings, f)\n",
    "with open(\"artifacts/val_labels.pkl\", \"wb\") as f:\n",
    "    pickle.dump(val_labels, f)\n",
    "with open(\"artifacts/test_encodings.pkl\", \"wb\") as f:\n",
    "    pickle.dump(test_encodings, f)\n",
    "with open(\"artifacts/test_labels.pkl\", \"wb\") as f:\n",
    "    pickle.dump(test_labels, f)\n",
    "with open(\"artifacts/train_df.pkl\", \"wb\") as f:\n",
    "    pickle.dump(train_df, f)\n",
    "with open(\"artifacts/val_df.pkl\", \"wb\") as f:\n",
    "    pickle.dump(val_df, f)"
   ]
  },
  {
   "cell_type": "markdown",
   "id": "1894ad94",
   "metadata": {},
   "source": [
    "## Done: Tokenization and Formatting Complete\n",
    "\n",
    "- Loaded the cleaned `train/val/test` data\n",
    "- Tokenized each article using `roberta-base`\n",
    "- Converted the labels into PyTorch tensors\n",
    "- Verified that tokenization is working correctly\n"
   ]
  }
 ],
 "metadata": {
  "kernelspec": {
   "display_name": "venv (3.10.11)",
   "language": "python",
   "name": "python3"
  },
  "language_info": {
   "codemirror_mode": {
    "name": "ipython",
    "version": 3
   },
   "file_extension": ".py",
   "mimetype": "text/x-python",
   "name": "python",
   "nbconvert_exporter": "python",
   "pygments_lexer": "ipython3",
   "version": "3.10.11"
  }
 },
 "nbformat": 4,
 "nbformat_minor": 5
}
